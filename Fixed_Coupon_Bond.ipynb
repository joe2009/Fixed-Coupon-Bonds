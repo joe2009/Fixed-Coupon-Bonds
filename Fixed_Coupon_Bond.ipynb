{
 "cells": [
  {
   "cell_type": "markdown",
   "metadata": {},
   "source": [
    "## Fixed Coupon Bonds"
   ]
  },
  {
   "cell_type": "markdown",
   "metadata": {},
   "source": [
    "##### Fixed Coupon Bond Valuation"
   ]
  },
  {
   "cell_type": "markdown",
   "metadata": {},
   "source": [
    "> $$ P = \\sum_{i=1}^{n} \\frac{C}{(1+r)^{i}} + \\frac{Notional}{(1+r)^{n}}$$\n",
    "\n",
    "> $P$ is present value of the bond, $C$ is the coupon, $i$ is when cashflow is received, $n$ is maturity, and $r$ is the discount rate. "
   ]
  },
  {
   "cell_type": "code",
   "execution_count": 2,
   "metadata": {},
   "outputs": [],
   "source": [
    "# Function to compute price of a fixed coupon bond\n",
    "\n",
    "def fixed_coupon_bond(Notional, C_rate, n, r, cf):\n",
    "    \n",
    "    # C_rate is annual coupon rate\n",
    "    # cf is compounding frequency\n",
    "    eff_C_rate = C_rate/cf\n",
    "    \n",
    "    # Coupons\n",
    "    C = eff_C_rate*Notional\n",
    "    \n",
    "    # ensure n is list or tuple\n",
    "    if type(n) is list or type(n) is tuple:\n",
    "        \n",
    "        P = []\n",
    "        \n",
    "        for i in n:\n",
    "            if i == n[-1]:\n",
    "                value = (C+Notional)/(1+r)**i\n",
    "                P.append(value)\n",
    "                \n",
    "            else:\n",
    "                value = C/(1+r)**i\n",
    "                P.append(value)\n",
    "                \n",
    "        return(sum(P))\n",
    "    \n",
    "    else:\n",
    "        raise TypeError(\"argument should be a list or tuple\")"
   ]
  },
  {
   "cell_type": "markdown",
   "metadata": {},
   "source": [
    "> Suppose we want to value a 20 year maturity bond with a Notional of 100,000, semi-annual frequency interest payments, and annual coupon rate of 5%. Let risk free rate be 3%."
   ]
  },
  {
   "cell_type": "code",
   "execution_count": 4,
   "metadata": {},
   "outputs": [
    {
     "data": {
      "text/plain": [
       "130308.73235005929"
      ]
     },
     "execution_count": 4,
     "metadata": {},
     "output_type": "execute_result"
    }
   ],
   "source": [
    "n = [0.5, 1.0, 1.5, 2.0, 2.5, 3.0, 3.5, 4.0, 4.5, 5.0,\n",
    "    5.5, 6.0, 6.5, 7.0, 7.5, 8.0, 8.5, 9.0, 9.5, 10.0,\n",
    "    10.5, 11.0, 11.5, 12.0, 12.5, 13.0, 13.5, 14.0, 14.5,\n",
    "    15.0, 15.5, 16.0, 16.5, 17.0, 17.5, 18.0, 18.5, 19.0,\n",
    "    19.5, 20.0]\n",
    "\n",
    "Notional = 100000\n",
    "\n",
    "C_rate = 0.05\n",
    "\n",
    "r = 0.03\n",
    "\n",
    "cf = 2\n",
    "\n",
    "fixed_coupon_bond(Notional, C_rate, n, r, cf)"
   ]
  },
  {
   "cell_type": "markdown",
   "metadata": {},
   "source": [
    "##### Yield"
   ]
  },
  {
   "cell_type": "markdown",
   "metadata": {},
   "source": [
    "> Bond's yield is the discount rate which when applied to all cash flows would make the theoretical bond price equal to the market price of the bond."
   ]
  },
  {
   "cell_type": "code",
   "execution_count": 13,
   "metadata": {},
   "outputs": [],
   "source": [
    "def ytm(y):\n",
    "    \n",
    "    n = [0.5, 1.0, 1.5, 2.0, 2.5, 3.0, 3.5, 4.0, 4.5, 5.0,\n",
    "    5.5, 6.0, 6.5, 7.0, 7.5, 8.0, 8.5, 9.0, 9.5, 10.0,\n",
    "    10.5, 11.0, 11.5, 12.0, 12.5, 13.0, 13.5, 14.0, 14.5,\n",
    "    15.0, 15.5, 16.0, 16.5, 17.0, 17.5, 18.0, 18.5, 19.0,\n",
    "    19.5, 20.0]\n",
    "\n",
    "    Notional = 100000\n",
    "\n",
    "    C_rate = 0.05\n",
    "\n",
    "    r = 0.03\n",
    "\n",
    "    cf = 2\n",
    "    \n",
    "    # C_rate is annual coupon rate\n",
    "    # cf is compounding frequency\n",
    "    eff_C_rate = C_rate/cf\n",
    "    \n",
    "    # Coupons\n",
    "    C = eff_C_rate*Notional \n",
    "    \n",
    "    # Market Price\n",
    "    market_price = 120000\n",
    "    \n",
    "    P = []\n",
    "        \n",
    "    for i in n:\n",
    "        if i == n[-1]:\n",
    "            value = (C+Notional)/(1+y)**i\n",
    "            P.append(value)\n",
    "                \n",
    "        else:\n",
    "            value = C/(1+y)**i\n",
    "            P.append(value)\n",
    "        \n",
    "    bond_price = sum(P)\n",
    "    \n",
    "    return(market_price - bond_price)\n",
    "    "
   ]
  },
  {
   "cell_type": "code",
   "execution_count": 14,
   "metadata": {},
   "outputs": [
    {
     "data": {
      "text/plain": [
       "0.03622064171917195"
      ]
     },
     "execution_count": 14,
     "metadata": {},
     "output_type": "execute_result"
    }
   ],
   "source": [
    "import scipy\n",
    "from scipy.optimize import newton\n",
    "\n",
    "# calculate yield\n",
    "y = scipy.optimize.newton(ytm, 0.001)\n",
    "y"
   ]
  },
  {
   "cell_type": "markdown",
   "metadata": {},
   "source": [
    "##### Modified Duration"
   ]
  },
  {
   "cell_type": "markdown",
   "metadata": {},
   "source": [
    "> Sensitivity of the bond price with respect to the yield. Percenage change in bond price due to unit change in yield."
   ]
  }
 ],
 "metadata": {
  "kernelspec": {
   "display_name": "Python 3",
   "language": "python",
   "name": "python3"
  },
  "language_info": {
   "codemirror_mode": {
    "name": "ipython",
    "version": 3
   },
   "file_extension": ".py",
   "mimetype": "text/x-python",
   "name": "python",
   "nbconvert_exporter": "python",
   "pygments_lexer": "ipython3",
   "version": "3.7.4"
  }
 },
 "nbformat": 4,
 "nbformat_minor": 2
}
