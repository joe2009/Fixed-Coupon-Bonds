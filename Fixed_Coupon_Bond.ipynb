{
 "cells": [
  {
   "cell_type": "markdown",
   "metadata": {},
   "source": [
    "## Fixed Coupon Bonds"
   ]
  },
  {
   "cell_type": "markdown",
   "metadata": {},
   "source": [
    "##### Fixed Coupon Bond Valuation"
   ]
  },
  {
   "cell_type": "markdown",
   "metadata": {},
   "source": [
    "> $$ P = \\sum_{i=1}^{n} \\frac{C}{(1+r)^{i}} + \\frac{Notional}{(1+r)^{n}}$$\n",
    "\n",
    "> $P$ is present value of the bond, $C$ is the coupon, $i$ is when cashflow is received, $n$ is maturity, and $r$ is the discount rate. "
   ]
  },
  {
   "cell_type": "code",
   "execution_count": 1,
   "metadata": {},
   "outputs": [],
   "source": [
    "# Function to compute price of a fixed coupon bond\n",
    "\n",
    "def fixed_coupon_bond(Notional, C_rate, n, r, cf):\n",
    "    \n",
    "    # C_rate is annual coupon rate\n",
    "    # cf is compounding frequency\n",
    "    eff_C_rate = C_rate/cf\n",
    "    \n",
    "    # Coupons\n",
    "    C = eff_C_rate*Notional\n",
    "    \n",
    "    # ensure n is list or tuple\n",
    "    if type(n) is list or type(n) is tuple:\n",
    "        \n",
    "        P = []\n",
    "        \n",
    "        for i in n:\n",
    "            if i == n[-1]:\n",
    "                value = (C+Notional)/(1+r)**i\n",
    "                P.append(value)\n",
    "                \n",
    "            else:\n",
    "                value = C/(1+r)**i\n",
    "                P.append(value)\n",
    "                \n",
    "        return(sum(P))\n",
    "    \n",
    "    else:\n",
    "        raise TypeError(\"argument should be a list or tuple\")"
   ]
  },
  {
   "cell_type": "markdown",
   "metadata": {},
   "source": [
    "> Suppose we want to value a 20 year maturity bond with a Notional of 100,000, semi-annual frequency interest payments, and annual coupon rate of 5%. Let risk free rate be 3%."
   ]
  },
  {
   "cell_type": "code",
   "execution_count": 2,
   "metadata": {},
   "outputs": [
    {
     "data": {
      "text/plain": [
       "130308.73235005929"
      ]
     },
     "execution_count": 2,
     "metadata": {},
     "output_type": "execute_result"
    }
   ],
   "source": [
    "n = [0.5, 1.0, 1.5, 2.0, 2.5, 3.0, 3.5, 4.0, 4.5, 5.0,\n",
    "    5.5, 6.0, 6.5, 7.0, 7.5, 8.0, 8.5, 9.0, 9.5, 10.0,\n",
    "    10.5, 11.0, 11.5, 12.0, 12.5, 13.0, 13.5, 14.0, 14.5,\n",
    "    15.0, 15.5, 16.0, 16.5, 17.0, 17.5, 18.0, 18.5, 19.0,\n",
    "    19.5, 20.0]\n",
    "\n",
    "Notional = 100000\n",
    "\n",
    "C_rate = 0.05\n",
    "\n",
    "r = 0.03\n",
    "\n",
    "cf = 2\n",
    "\n",
    "fixed_coupon_bond(Notional, C_rate, n, r, cf)"
   ]
  },
  {
   "cell_type": "markdown",
   "metadata": {},
   "source": [
    "##### Yield"
   ]
  },
  {
   "cell_type": "markdown",
   "metadata": {},
   "source": [
    "> Bond's yield is the discount rate which when applied to all cash flows would make the theoretical bond price equal to the market price of the bond."
   ]
  },
  {
   "cell_type": "code",
   "execution_count": 3,
   "metadata": {},
   "outputs": [],
   "source": [
    "def ytm(y):\n",
    "    \n",
    "    n = [0.5, 1.0, 1.5, 2.0, 2.5, 3.0, 3.5, 4.0, 4.5, 5.0,\n",
    "    5.5, 6.0, 6.5, 7.0, 7.5, 8.0, 8.5, 9.0, 9.5, 10.0,\n",
    "    10.5, 11.0, 11.5, 12.0, 12.5, 13.0, 13.5, 14.0, 14.5,\n",
    "    15.0, 15.5, 16.0, 16.5, 17.0, 17.5, 18.0, 18.5, 19.0,\n",
    "    19.5, 20.0]\n",
    "\n",
    "    Notional = 100000\n",
    "\n",
    "    C_rate = 0.05\n",
    "\n",
    "    r = 0.03\n",
    "\n",
    "    cf = 2\n",
    "    \n",
    "    # C_rate is annual coupon rate\n",
    "    # cf is compounding frequency\n",
    "    eff_C_rate = C_rate/cf\n",
    "    \n",
    "    # Coupons\n",
    "    C = eff_C_rate*Notional \n",
    "    \n",
    "    # Market Price\n",
    "    market_price = 120000\n",
    "    \n",
    "    P = []\n",
    "        \n",
    "    for i in n:\n",
    "        if i == n[-1]:\n",
    "            value = (C+Notional)/(1+y)**i\n",
    "            P.append(value)\n",
    "                \n",
    "        else:\n",
    "            value = C/(1+y)**i\n",
    "            P.append(value)\n",
    "        \n",
    "    bond_price = sum(P)\n",
    "    \n",
    "    return(market_price - bond_price)\n",
    "    "
   ]
  },
  {
   "cell_type": "code",
   "execution_count": 4,
   "metadata": {},
   "outputs": [
    {
     "data": {
      "text/plain": [
       "0.03622064171917195"
      ]
     },
     "execution_count": 4,
     "metadata": {},
     "output_type": "execute_result"
    }
   ],
   "source": [
    "import scipy\n",
    "from scipy.optimize import newton\n",
    "\n",
    "# calculate yield\n",
    "y = scipy.optimize.newton(ytm, 0.001)\n",
    "y"
   ]
  },
  {
   "cell_type": "markdown",
   "metadata": {},
   "source": [
    "##### Modified Duration"
   ]
  },
  {
   "cell_type": "markdown",
   "metadata": {},
   "source": [
    "> Sensitivity of the bond price with respect to the yield. Percenage change in bond price due to unit change in yield.\n",
    "\n",
    " $$ D_{modified} = \\frac{D}{1+y_{m}/m} $$"
   ]
  },
  {
   "cell_type": "markdown",
   "metadata": {},
   "source": [
    "> D is the Macaulay duration, $y_{m}$ is the yield to maturity (periodically compounded), and m is compounding frequency per year."
   ]
  },
  {
   "cell_type": "markdown",
   "metadata": {},
   "source": [
    "> Macaulay duration is weighted average time for a bond holder to receive cash flows.\n",
    "\n",
    "$$ D = \\sum_{i=1}^{n} t_{i} \\left[\\frac{c_{i}e^{-yt_{i}}}{B}\\right] $$"
   ]
  },
  {
   "cell_type": "markdown",
   "metadata": {},
   "source": [
    "> $c_{i}$ is the cash flow for payment $i$, $t_{i}$ is the time in years until $i$th cash flow is received, $B$ is bond price, and $y$ is yield to maturity (continuously compounded)."
   ]
  },
  {
   "cell_type": "code",
   "execution_count": 5,
   "metadata": {},
   "outputs": [],
   "source": [
    "import numpy as np\n",
    "import math\n",
    "\n",
    "# Function to compute Modified Duration\n",
    "\n",
    "def mod_duration(t, c, y_m, B, m):\n",
    "    \n",
    "    # Convert yield to continuous compounding\n",
    "    y = m*math.log(1 + y_m/m)\n",
    "    \n",
    "    # Calculate Macaulay Duration\n",
    "    D = []\n",
    "    \n",
    "    for i in range(len(t)):\n",
    "        value = t[i]*((c[i]*math.exp(-y*t[i]))/B)\n",
    "        D.append(value)\n",
    "        \n",
    "        # Calculate Modified Duration\n",
    "        mod_duration = sum(D)/(1 + y_m/m)\n",
    "        \n",
    "    return(mod_duration)"
   ]
  },
  {
   "cell_type": "code",
   "execution_count": 6,
   "metadata": {},
   "outputs": [
    {
     "data": {
      "text/plain": [
       "7.4322626275863914"
      ]
     },
     "execution_count": 6,
     "metadata": {},
     "output_type": "execute_result"
    }
   ],
   "source": [
    "### Inputs: ###\n",
    "\n",
    "# times\n",
    "t = [0.5, 1.0, 1.5, 2.0, 2.5, 3.0, 3.5, 4.0, 4.5, 5.0,\n",
    "    5.5, 6.0, 6.5, 7.0, 7.5, 8.0, 8.5, 9.0, 9.5, 10.0,\n",
    "    10.5, 11.0, 11.5, 12.0, 12.5, 13.0, 13.5, 14.0, 14.5,\n",
    "    15.0, 15.5, 16.0, 16.5, 17.0, 17.5, 18.0, 18.5, 19.0,\n",
    "    19.5, 20.0]\n",
    "\n",
    "# Principal amount\n",
    "Notional = 100000\n",
    "\n",
    "# risk free rate\n",
    "r = 0.03\n",
    "\n",
    "# cash flows\n",
    "c = []\n",
    "for i in t:\n",
    "    if i == t[-1]:\n",
    "        value = ((0.05/2)*Notional + Notional)/(1+r)**i\n",
    "        c.append(value)\n",
    "                \n",
    "    else:\n",
    "        value = ((0.05/2)*Notional)/(1+r)**i\n",
    "        c.append(value)\n",
    "                \n",
    "\n",
    "# yield to maturity\n",
    "y_m = scipy.optimize.newton(ytm, 0.001)\n",
    "\n",
    "# Bond price\n",
    "B = sum(c)\n",
    "\n",
    "# compounding frequency \n",
    "m = 2\n",
    "\n",
    "### Modified Duration ###\n",
    "mod_duration(t, c, y_m, B, m)"
   ]
  },
  {
   "cell_type": "markdown",
   "metadata": {},
   "source": [
    "##### Effective Duration"
   ]
  },
  {
   "cell_type": "markdown",
   "metadata": {},
   "source": [
    "> Measures change in Bond's value due to a 1% change in the yield of the bond across all maturities.\n",
    "\n",
    "$$ \\text{Effective Duration} = \\frac {B_{-\\Delta y} - B_{+ \\Delta y}}{2B\\Delta y} $$"
   ]
  },
  {
   "cell_type": "markdown",
   "metadata": {},
   "source": [
    "> $B_{-\\Delta y}$ is bond's value if yield falls by a percentage amount, $B_{+ \\Delta y}$ is bond's value if yield increases by a percentage amount, $B$ is bond's present value, and $\\Delta y$ is the yield change."
   ]
  },
  {
   "cell_type": "code",
   "execution_count": 7,
   "metadata": {},
   "outputs": [],
   "source": [
    "# Function to compute Effective Duration\n",
    "\n",
    "def eff_duration(B, delta_y, Notional, C, t, y_m, m):\n",
    "    \n",
    "    # Convert yield to continuous compounding\n",
    "    y = m*math.log(1 + y_m/m)\n",
    "    \n",
    "    y_down = y - delta_y\n",
    "    y_up = y + delta_y\n",
    "    \n",
    "    # compute bond prices\n",
    "    B = []\n",
    "    B_down = []\n",
    "    B_up = []\n",
    "    \n",
    "    for i in t:\n",
    "        if i == t[-1]:\n",
    "        \n",
    "            # B\n",
    "            value = (C+Notional)/(1+y)**i\n",
    "            B.append(value)\n",
    "        \n",
    "            # B_down\n",
    "            value_down = (C+Notional)/(1+y_down)**i\n",
    "            B_down.append(value_down)\n",
    "        \n",
    "            # B_up\n",
    "            value_up = (C+Notional)/(1+y_up)**i\n",
    "            B_up.append(value_up)\n",
    "        \n",
    "        else:\n",
    "            \n",
    "            # B\n",
    "            value = C/(1+y)**i\n",
    "            B.append(value)\n",
    "            \n",
    "            # B_down\n",
    "            value_down = C/(1+y_down)**i\n",
    "            B_down.append(value_down)\n",
    "            \n",
    "            # B_up\n",
    "            value_up = C/(1+y_up)**i\n",
    "            B_up.append(value_up)\n",
    "            \n",
    "    ED = (sum(B_down) - sum(B_up))/(2*sum(B)*delta_y)\n",
    "    \n",
    "    return(ED)"
   ]
  },
  {
   "cell_type": "code",
   "execution_count": 8,
   "metadata": {},
   "outputs": [
    {
     "data": {
      "text/plain": [
       "13.163852162909398"
      ]
     },
     "execution_count": 8,
     "metadata": {},
     "output_type": "execute_result"
    }
   ],
   "source": [
    "### Inputs: ###\n",
    "B = 130308.73\n",
    "delta_y = 0.01\n",
    "Notional = 100000\n",
    "C = 2500\n",
    "t = [0.5, 1.0, 1.5, 2.0, 2.5, 3.0, 3.5, 4.0, 4.5, 5.0,\n",
    "    5.5, 6.0, 6.5, 7.0, 7.5, 8.0, 8.5, 9.0, 9.5, 10.0,\n",
    "    10.5, 11.0, 11.5, 12.0, 12.5, 13.0, 13.5, 14.0, 14.5,\n",
    "    15.0, 15.5, 16.0, 16.5, 17.0, 17.5, 18.0, 18.5, 19.0,\n",
    "    19.5, 20.0]\n",
    "y_m = scipy.optimize.newton(ytm, 0.001)\n",
    "m = 2\n",
    "\n",
    "### Effective Duration ###\n",
    "eff_duration(B, delta_y, Notional, C, t, y_m, m)"
   ]
  },
  {
   "cell_type": "markdown",
   "metadata": {},
   "source": [
    "##### Convexity"
   ]
  },
  {
   "cell_type": "markdown",
   "metadata": {},
   "source": [
    "> How a nonlinear bond price function of interest rates changes due to interest rate changes. Change in duration due to interest rate changes.\n",
    "\n",
    "$$ \\text{Convexity} = \\frac{\\sum_{i=1}^{n} c_{i}t_{i}^{2}e^{-yt_{i}}} {B} $$"
   ]
  },
  {
   "cell_type": "code",
   "execution_count": 9,
   "metadata": {},
   "outputs": [],
   "source": [
    "# Function to compute convexity\n",
    "\n",
    "def convexity(t, c, y_m, m, B):\n",
    "    \n",
    "    # Convert yield to continuous compounding\n",
    "    y = m*math.log(1 + y_m/m)\n",
    "    \n",
    "    Convexity = []\n",
    "    \n",
    "    for i in range(len(t)):\n",
    "        value = c[i]*(t[i]**2)*math.exp(-y*t[i])\n",
    "        Convexity.append(value)\n",
    "        \n",
    "    C = sum(Convexity)/B\n",
    "        \n",
    "    return(C)"
   ]
  },
  {
   "cell_type": "code",
   "execution_count": 10,
   "metadata": {},
   "outputs": [
    {
     "data": {
      "text/plain": [
       "123.61410974106931"
      ]
     },
     "execution_count": 10,
     "metadata": {},
     "output_type": "execute_result"
    }
   ],
   "source": [
    "### Inputs: ###\n",
    "t = [0.5, 1.0, 1.5, 2.0, 2.5, 3.0, 3.5, 4.0, 4.5, 5.0,\n",
    "    5.5, 6.0, 6.5, 7.0, 7.5, 8.0, 8.5, 9.0, 9.5, 10.0,\n",
    "    10.5, 11.0, 11.5, 12.0, 12.5, 13.0, 13.5, 14.0, 14.5,\n",
    "    15.0, 15.5, 16.0, 16.5, 17.0, 17.5, 18.0, 18.5, 19.0,\n",
    "    19.5, 20.0]\n",
    "y_m = scipy.optimize.newton(ytm, 0.001)\n",
    "m = 2\n",
    "B = 130308.73\n",
    "\n",
    "# Cash flows\n",
    "Notional = 100000\n",
    "r = 0.03\n",
    "c = []\n",
    "for i in t:\n",
    "    if i == t[-1]:\n",
    "        value = ((0.05/2)*Notional + Notional)/(1+r)**i\n",
    "        c.append(value)\n",
    "                \n",
    "    else:\n",
    "        value = ((0.05/2)*Notional)/(1+r)**i\n",
    "        c.append(value)\n",
    "\n",
    "### Convexity ###\n",
    "convexity(t, c, y_m, m, B)"
   ]
  },
  {
   "cell_type": "markdown",
   "metadata": {},
   "source": [
    "##### Bootstrap (semi-annual coupons)"
   ]
  },
  {
   "cell_type": "code",
   "execution_count": 11,
   "metadata": {},
   "outputs": [
    {
     "data": {
      "text/html": [
       "<div>\n",
       "<style scoped>\n",
       "    .dataframe tbody tr th:only-of-type {\n",
       "        vertical-align: middle;\n",
       "    }\n",
       "\n",
       "    .dataframe tbody tr th {\n",
       "        vertical-align: top;\n",
       "    }\n",
       "\n",
       "    .dataframe thead th {\n",
       "        text-align: right;\n",
       "    }\n",
       "</style>\n",
       "<table border=\"1\" class=\"dataframe\">\n",
       "  <thead>\n",
       "    <tr style=\"text-align: right;\">\n",
       "      <th></th>\n",
       "      <th>Bond Principal ($)</th>\n",
       "      <th>Time to Maturity (years)</th>\n",
       "      <th>Annual Coupon ($)</th>\n",
       "      <th>Bond Price ($)</th>\n",
       "    </tr>\n",
       "  </thead>\n",
       "  <tbody>\n",
       "    <tr>\n",
       "      <td>0</td>\n",
       "      <td>100</td>\n",
       "      <td>0.25</td>\n",
       "      <td>0</td>\n",
       "      <td>97.5</td>\n",
       "    </tr>\n",
       "    <tr>\n",
       "      <td>1</td>\n",
       "      <td>100</td>\n",
       "      <td>0.50</td>\n",
       "      <td>0</td>\n",
       "      <td>94.9</td>\n",
       "    </tr>\n",
       "    <tr>\n",
       "      <td>2</td>\n",
       "      <td>100</td>\n",
       "      <td>1.00</td>\n",
       "      <td>0</td>\n",
       "      <td>90.0</td>\n",
       "    </tr>\n",
       "    <tr>\n",
       "      <td>3</td>\n",
       "      <td>100</td>\n",
       "      <td>1.50</td>\n",
       "      <td>8</td>\n",
       "      <td>96.0</td>\n",
       "    </tr>\n",
       "    <tr>\n",
       "      <td>4</td>\n",
       "      <td>100</td>\n",
       "      <td>2.00</td>\n",
       "      <td>12</td>\n",
       "      <td>101.6</td>\n",
       "    </tr>\n",
       "  </tbody>\n",
       "</table>\n",
       "</div>"
      ],
      "text/plain": [
       "   Bond Principal ($)  Time to Maturity (years)  Annual Coupon ($)  \\\n",
       "0                 100                      0.25                  0   \n",
       "1                 100                      0.50                  0   \n",
       "2                 100                      1.00                  0   \n",
       "3                 100                      1.50                  8   \n",
       "4                 100                      2.00                 12   \n",
       "\n",
       "   Bond Price ($)  \n",
       "0            97.5  \n",
       "1            94.9  \n",
       "2            90.0  \n",
       "3            96.0  \n",
       "4           101.6  "
      ]
     },
     "execution_count": 11,
     "metadata": {},
     "output_type": "execute_result"
    }
   ],
   "source": [
    "import pandas as pd\n",
    "\n",
    "data = {'Bond Principal ($)': [100, 100, 100, 100, 100],\n",
    "        'Time to Maturity (years)': [0.25, 0.50, 1.00, 1.50, 2.00],\n",
    "        'Annual Coupon ($)': [0, 0, 0, 8, 12],\n",
    "        'Bond Price ($)': [97.5, 94.9, 90.0, 96.0, 101.6]}\n",
    "\n",
    "b_data = pd.DataFrame(data=data)\n",
    "b_data"
   ]
  },
  {
   "cell_type": "markdown",
   "metadata": {},
   "source": [
    "> 3-month rate $R_{0.25}$    \n",
    "\n",
    "$$ 100 = 97.5e^{R_{0.25}*0.25} $$"
   ]
  },
  {
   "cell_type": "code",
   "execution_count": 12,
   "metadata": {},
   "outputs": [
    {
     "data": {
      "text/plain": [
       "0.10127123193715915"
      ]
     },
     "execution_count": 12,
     "metadata": {},
     "output_type": "execute_result"
    }
   ],
   "source": [
    "R_025 = math.log(b_data.iloc[0,0]/b_data.iloc[0,3])/b_data.iloc[0,1]\n",
    "R_025"
   ]
  },
  {
   "cell_type": "markdown",
   "metadata": {},
   "source": [
    "> 6-month rate $R_{0.50}$    \n",
    "\n",
    "$$ 100 = 94.9e^{R_{0.50}*0.50} $$"
   ]
  },
  {
   "cell_type": "code",
   "execution_count": 13,
   "metadata": {},
   "outputs": [
    {
     "data": {
      "text/plain": [
       "0.10469296074441839"
      ]
     },
     "execution_count": 13,
     "metadata": {},
     "output_type": "execute_result"
    }
   ],
   "source": [
    "R_050 = math.log(b_data.iloc[1,0]/b_data.iloc[1,3])/b_data.iloc[1,1]\n",
    "R_050"
   ]
  },
  {
   "cell_type": "markdown",
   "metadata": {},
   "source": [
    "> 1-year rate $R_{1.00}$    \n",
    "\n",
    "$$ 100 = 90.0e^{R_{1.00}*1.00} $$"
   ]
  },
  {
   "cell_type": "code",
   "execution_count": 14,
   "metadata": {},
   "outputs": [
    {
     "data": {
      "text/plain": [
       "0.10536051565782635"
      ]
     },
     "execution_count": 14,
     "metadata": {},
     "output_type": "execute_result"
    }
   ],
   "source": [
    "R_100 = math.log(b_data.iloc[2,0]/b_data.iloc[2,3])/b_data.iloc[2,1]\n",
    "R_100"
   ]
  },
  {
   "cell_type": "markdown",
   "metadata": {},
   "source": [
    "> 1.5-year rate $R_{1.00}$\n",
    "\n",
    "$$ 4e^{-R_{0.50}*0.50} + 4e^{-R_{1.00}*1.00} + 104e^{-R_{1.50}*1.50} = 96 $$"
   ]
  },
  {
   "cell_type": "code",
   "execution_count": 15,
   "metadata": {},
   "outputs": [
    {
     "data": {
      "text/plain": [
       "0.1068092638817053"
      ]
     },
     "execution_count": 15,
     "metadata": {},
     "output_type": "execute_result"
    }
   ],
   "source": [
    "R_150 = -math.log((b_data.iloc[3,3] - (b_data.iloc[3,2]/2)*math.exp(-R_050*b_data.iloc[1,1]) - (b_data.iloc[3,2]/2)*math.exp(-R_100*b_data.iloc[2,1]))/(b_data.iloc[3,0] + b_data.iloc[3,2]/2))/(b_data.iloc[3,1])  \n",
    "R_150"
   ]
  },
  {
   "cell_type": "markdown",
   "metadata": {},
   "source": [
    "> 2.0-year rate $R_{2.00}$\n",
    "\n",
    "$$ 6e^{-R_{0.50}*0.50} + 6e^{-R_{1.00}*1.00} + 6e^{-R_{1.50}*1.50} + 106e^{-R_{2.00}*2.00} = 101.6 $$"
   ]
  },
  {
   "cell_type": "code",
   "execution_count": 16,
   "metadata": {},
   "outputs": [
    {
     "data": {
      "text/plain": [
       "0.10808027549746793"
      ]
     },
     "execution_count": 16,
     "metadata": {},
     "output_type": "execute_result"
    }
   ],
   "source": [
    "R_200 = -math.log((b_data.iloc[4,3] - (b_data.iloc[4,2]/2)*math.exp(-R_050*b_data.iloc[1,1]) - (b_data.iloc[4,2]/2)*math.exp(-R_100*b_data.iloc[2,1]) - (b_data.iloc[4,2]/2)*math.exp(-R_150*b_data.iloc[3,1]))/(b_data.iloc[4,0] + b_data.iloc[4,2]/2))/(b_data.iloc[4,1])  \n",
    "R_200"
   ]
  },
  {
   "cell_type": "code",
   "execution_count": 17,
   "metadata": {},
   "outputs": [
    {
     "data": {
      "text/html": [
       "<div>\n",
       "<style scoped>\n",
       "    .dataframe tbody tr th:only-of-type {\n",
       "        vertical-align: middle;\n",
       "    }\n",
       "\n",
       "    .dataframe tbody tr th {\n",
       "        vertical-align: top;\n",
       "    }\n",
       "\n",
       "    .dataframe thead th {\n",
       "        text-align: right;\n",
       "    }\n",
       "</style>\n",
       "<table border=\"1\" class=\"dataframe\">\n",
       "  <thead>\n",
       "    <tr style=\"text-align: right;\">\n",
       "      <th></th>\n",
       "      <th>Time to Maturity (years)</th>\n",
       "      <th>Zero Rate (%)</th>\n",
       "    </tr>\n",
       "  </thead>\n",
       "  <tbody>\n",
       "    <tr>\n",
       "      <td>0</td>\n",
       "      <td>0.25</td>\n",
       "      <td>10.127123</td>\n",
       "    </tr>\n",
       "    <tr>\n",
       "      <td>1</td>\n",
       "      <td>0.50</td>\n",
       "      <td>10.469296</td>\n",
       "    </tr>\n",
       "    <tr>\n",
       "      <td>2</td>\n",
       "      <td>1.00</td>\n",
       "      <td>10.536052</td>\n",
       "    </tr>\n",
       "    <tr>\n",
       "      <td>3</td>\n",
       "      <td>1.50</td>\n",
       "      <td>10.680926</td>\n",
       "    </tr>\n",
       "    <tr>\n",
       "      <td>4</td>\n",
       "      <td>2.00</td>\n",
       "      <td>10.808028</td>\n",
       "    </tr>\n",
       "  </tbody>\n",
       "</table>\n",
       "</div>"
      ],
      "text/plain": [
       "   Time to Maturity (years)  Zero Rate (%)\n",
       "0                      0.25      10.127123\n",
       "1                      0.50      10.469296\n",
       "2                      1.00      10.536052\n",
       "3                      1.50      10.680926\n",
       "4                      2.00      10.808028"
      ]
     },
     "execution_count": 17,
     "metadata": {},
     "output_type": "execute_result"
    }
   ],
   "source": [
    "zero_rates = pd.DataFrame(data={'Time to Maturity (years)': [0.25, 0.50, 1.00, 1.50, 2.00],\n",
    "                                'Zero Rate (%)': [R_025*100, R_050*100, R_100*100, R_150*100, R_200*100]})\n",
    "\n",
    "zero_rates"
   ]
  },
  {
   "cell_type": "code",
   "execution_count": 18,
   "metadata": {},
   "outputs": [
    {
     "data": {
      "text/plain": [
       "Text(0, 0.5, 'Zero Rate (%)')"
      ]
     },
     "execution_count": 18,
     "metadata": {},
     "output_type": "execute_result"
    },
    {
     "data": {
      "image/png": "[encoded data removed]",
      "text/plain": [
       "<Figure size 432x288 with 1 Axes>"
      ]
     },
     "metadata": {
      "needs_background": "light"
     },
     "output_type": "display_data"
    }
   ],
   "source": [
    "import matplotlib.pyplot as plt\n",
    "import seaborn as sns\n",
    "%matplotlib inline\n",
    "\n",
    "fig, ax = plt.subplots()\n",
    "ax.plot(zero_rates['Time to Maturity (years)'], zero_rates['Zero Rate (%)'])\n",
    "ax.set_xlabel('Maturity (years)')\n",
    "ax.set_ylabel('Zero Rate (%)')"
   ]
  }
 ],
 "metadata": {
  "kernelspec": {
   "display_name": "Python 3",
   "language": "python",
   "name": "python3"
  },
  "language_info": {
   "codemirror_mode": {
    "name": "ipython",
    "version": 3
   },
   "file_extension": ".py",
   "mimetype": "text/x-python",
   "name": "python",
   "nbconvert_exporter": "python",
   "pygments_lexer": "ipython3",
   "version": "3.7.4"
  }
 },
 "nbformat": 4,
 "nbformat_minor": 2
}
